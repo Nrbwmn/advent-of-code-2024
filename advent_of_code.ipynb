{
 "cells": [
  {
   "cell_type": "code",
   "execution_count": 38,
   "metadata": {},
   "outputs": [
    {
     "data": {
      "text/plain": [
       "765748"
      ]
     },
     "execution_count": 38,
     "metadata": {},
     "output_type": "execute_result"
    }
   ],
   "source": [
    "def extract_data_d01(file):\n",
    "    left_list = []\n",
    "    right_list = []\n",
    "    with open(file, 'r') as f:\n",
    "        for line in f:\n",
    "            left_list.append(int(line.split()[0]))\n",
    "            right_list.append(int(line.split()[1]))\n",
    "    return left_list, right_list\n",
    "\n",
    "def december_first(left_list, right_list):\n",
    "    total_distance = 0\n",
    "\n",
    "    for i in range(len(left_list)):\n",
    "        current_left_min = min(left_list)\n",
    "        current_right_min = min(right_list)\n",
    "        total_distance += abs(current_left_min - current_right_min)\n",
    "        left_list.remove(current_left_min)\n",
    "        right_list.remove(current_right_min)\n",
    "\n",
    "    return total_distance\n",
    "\n",
    "left_list_small, right_list_small = extract_data_d01(\"data/input-1-small.txt\")\n",
    "december_first(left_list_small, right_list_small)\n",
    "\n",
    "left_list_full, right_list_full = extract_data_d01(\"data/input-1.txt\")\n",
    "december_first(left_list_full, right_list_full)"
   ]
  },
  {
   "cell_type": "code",
   "execution_count": 39,
   "metadata": {},
   "outputs": [
    {
     "data": {
      "text/plain": [
       "27732508"
      ]
     },
     "execution_count": 39,
     "metadata": {},
     "output_type": "execute_result"
    }
   ],
   "source": [
    "def december_first_part2(left_list_small, right_list_small):\n",
    "    similarity_score = 0\n",
    "    for number in left_list_small:\n",
    "        similarity_score += number * right_list_small.count(number)\n",
    "    return similarity_score\n",
    "\n",
    "left_list_small, right_list_small = extract_data_d01(\"data/input-1-small.txt\")\n",
    "december_first_part2(left_list_small, right_list_small)\n",
    "\n",
    "left_list_full, right_list_full = extract_data_d01(\"data/input-1.txt\")\n",
    "december_first_part2(left_list_full, right_list_full)"
   ]
  },
  {
   "cell_type": "code",
   "execution_count": 40,
   "metadata": {},
   "outputs": [
    {
     "data": {
      "text/plain": [
       "663"
      ]
     },
     "execution_count": 40,
     "metadata": {},
     "output_type": "execute_result"
    }
   ],
   "source": [
    "def extract_data_d02(file):\n",
    "    reports = []\n",
    "    with open(file, 'r') as f:\n",
    "        for line in f:\n",
    "            numbers = [int(num) for num in line.split()]\n",
    "            reports.append(numbers)\n",
    "    return reports  \n",
    "\n",
    "def december_second(reports):\n",
    "    \"\"\"\n",
    "    >>> december_second([[45, 47, 48, 50, 51, 52, 54, 51]])\n",
    "    0\n",
    "    >>> december_second([[37, 36, 35, 32, 29, 32]])\n",
    "    0\n",
    "    \"\"\"\n",
    "    number_of_reports = 0\n",
    "\n",
    "    for report in reports:\n",
    "        if is_safe(report):\n",
    "            number_of_reports += 1\n",
    "    return number_of_reports\n",
    "\n",
    "def is_safe(report):\n",
    "    increasing = False\n",
    "    decreasing = False\n",
    "    i = 0\n",
    "    while i < len(report) - 1 and not (increasing and decreasing):\n",
    "        if 1 <= abs(report[i] - report[i + 1]) <= 3 and report[i] - report[i + 1] > 0:\n",
    "            increasing = True\n",
    "        elif 1 <= abs(report[i] - report[i + 1]) <= 3 and report[i] - report[i + 1] < 0:\n",
    "            decreasing = True\n",
    "        else:\n",
    "            break\n",
    "        i += 1\n",
    "        if i == len(report) - 1 and not (increasing and decreasing):\n",
    "            return True\n",
    "\n",
    "reports_small = extract_data_d02(\"data/input-2-small.txt\")\n",
    "december_second(reports_small)\n",
    "\n",
    "reports_full = extract_data_d02('data/input-2.txt')\n",
    "december_second(reports_full)"
   ]
  },
  {
   "cell_type": "code",
   "execution_count": 41,
   "metadata": {},
   "outputs": [
    {
     "name": "stdout",
     "output_type": "stream",
     "text": [
      "Finding tests in NoName\n",
      "Trying:\n",
      "    december_second([[45, 47, 48, 50, 51, 52, 54, 51]])\n",
      "Expecting:\n",
      "    0\n",
      "ok\n",
      "Trying:\n",
      "    december_second([[37, 36, 35, 32, 29, 32]])\n",
      "Expecting:\n",
      "    0\n",
      "ok\n"
     ]
    }
   ],
   "source": [
    "import doctest\n",
    "doctest.run_docstring_examples(december_second, globals(), verbose = True)"
   ]
  },
  {
   "cell_type": "code",
   "execution_count": 42,
   "metadata": {},
   "outputs": [
    {
     "data": {
      "text/plain": [
       "692"
      ]
     },
     "execution_count": 42,
     "metadata": {},
     "output_type": "execute_result"
    }
   ],
   "source": [
    "def make_all_possible_permutations(report):\n",
    "    permutations = []\n",
    "    for i in range(len(report)):\n",
    "        report_copy = report.copy()\n",
    "        report_copy.pop(i)\n",
    "        permutations.append(report_copy)\n",
    "    return permutations\n",
    "\n",
    "def is_permutation_safe(permutations):\n",
    "    for report in permutations:\n",
    "        if is_safe(report):\n",
    "            return True\n",
    "    else:\n",
    "        return False\n",
    "    \n",
    "def december_second_part2(reports):\n",
    "    number_of_reports = 0\n",
    "\n",
    "    for report in reports:\n",
    "        if is_safe(report):\n",
    "            number_of_reports += 1\n",
    "        else: \n",
    "            permutations = make_all_possible_permutations(report)\n",
    "            if is_permutation_safe(permutations):\n",
    "                number_of_reports += 1\n",
    "            \n",
    "    return number_of_reports\n",
    "\n",
    "december_second_part2(reports_full)"
   ]
  },
  {
   "cell_type": "code",
   "execution_count": 43,
   "metadata": {},
   "outputs": [
    {
     "data": {
      "text/plain": [
       "76729637"
      ]
     },
     "execution_count": 43,
     "metadata": {},
     "output_type": "execute_result"
    }
   ],
   "source": [
    "import re\n",
    "may_I_multiply = True\n",
    "\n",
    "def extract_data_d03(file, part):\n",
    "    with open(file, 'r') as f:\n",
    "        total_sum = 0\n",
    "        for instruction in f:\n",
    "            if part == \"part1\":\n",
    "                total_sum += december_third(instruction)\n",
    "            elif part == \"part2\":\n",
    "                total_sum += december_third_part2(instruction)\n",
    "            else:\n",
    "                print(\"This part does not exist\")\n",
    "    return total_sum\n",
    "\n",
    "def mul(x, y):\n",
    "    return x * y\n",
    "\n",
    "def december_third(instruction):\n",
    "    match_list = re.findall(r\"mul\\(\\d*,\\d*\\)\", instruction)\n",
    "    mul_sum = 0\n",
    "    for mtch in match_list:\n",
    "        numbers = re.findall(r\"\\d*\", mtch)\n",
    "        mul_sum += mul(int(numbers[4]), int(numbers[6]))\n",
    "    return mul_sum\n",
    "\n",
    "def december_third_part2(instruction):\n",
    "    match_list = re.findall(r\"mul[(]\\d*,\\d*[)]|don't[()]{2}|do[()]{2}\", instruction)\n",
    "\n",
    "    mul_sum = 0\n",
    "    for mtch in match_list:\n",
    "        if mtch == \"don't()\":\n",
    "            globals()[\"may_I_multiply\"] = False\n",
    "        elif mtch == \"do()\":\n",
    "            globals()[\"may_I_multiply\"] = True\n",
    "        else:\n",
    "            if may_I_multiply: \n",
    "                numbers = re.findall(r\"\\d*\", mtch)\n",
    "                mul_sum += mul(int(numbers[4]), int(numbers[6]))\n",
    "    return mul_sum\n",
    "\n",
    "extract_data_d03(\"data/input-3.txt\", \"part2\")"
   ]
  }
 ],
 "metadata": {
  "kernelspec": {
   "display_name": "graduation",
   "language": "python",
   "name": "python3"
  },
  "language_info": {
   "codemirror_mode": {
    "name": "ipython",
    "version": 3
   },
   "file_extension": ".py",
   "mimetype": "text/x-python",
   "name": "python",
   "nbconvert_exporter": "python",
   "pygments_lexer": "ipython3",
   "version": "3.12.7"
  }
 },
 "nbformat": 4,
 "nbformat_minor": 2
}
